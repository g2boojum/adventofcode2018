{
 "cells": [
  {
   "cell_type": "code",
   "execution_count": 1,
   "metadata": {},
   "outputs": [],
   "source": [
    "%matplotlib inline\n",
    "import pandas as pd\n",
    "import numpy as np\n",
    "import matplotlib.pyplot as plt\n",
    "import scipy as sp\n",
    "import scipy.optimize as spo\n",
    "import statsmodels.api as sm\n",
    "from statsmodels.graphics.dotplots import dot_plot\n",
    "from scipy.interpolate import interp1d\n",
    "import seaborn as sns\n",
    "params = {'figure.figsize': (10,7),\n",
    "          'axes.labelsize': 18,\n",
    "          'font.size': 18,\n",
    "          'xtick.labelsize': 16,\n",
    "          'ytick.labelsize': 16,\n",
    "          'legend.fontsize': 16}\n",
    "sns.set(palette='Set2', style='ticks', rc=params)"
   ]
  },
  {
   "cell_type": "markdown",
   "metadata": {},
   "source": [
    "### Part 1 ###"
   ]
  },
  {
   "cell_type": "code",
   "execution_count": 2,
   "metadata": {},
   "outputs": [],
   "source": [
    "def pts_to_matrix(points):\n",
    "    arr = np.zeros((len(points), 2), int)\n",
    "    for i, (x,y) in enumerate(points):\n",
    "        arr[i, 0] = x\n",
    "        arr[i, 1] = y\n",
    "    return arr"
   ]
  },
  {
   "cell_type": "code",
   "execution_count": 3,
   "metadata": {},
   "outputs": [
    {
     "data": {
      "text/plain": [
       "array([[1, 1],\n",
       "       [1, 6],\n",
       "       [8, 3],\n",
       "       [3, 4],\n",
       "       [5, 5],\n",
       "       [8, 9]])"
      ]
     },
     "execution_count": 3,
     "metadata": {},
     "output_type": "execute_result"
    }
   ],
   "source": [
    "test_data = [(1,1), (1,6), (8,3), (3,4), (5,5), (8,9)]\n",
    "test_data = pts_to_matrix(test_data)\n",
    "test_data"
   ]
  },
  {
   "cell_type": "code",
   "execution_count": 4,
   "metadata": {},
   "outputs": [
    {
     "data": {
      "text/plain": [
       "(array([242, 164]), array([236, 191]))"
      ]
     },
     "execution_count": 4,
     "metadata": {},
     "output_type": "execute_result"
    }
   ],
   "source": [
    "with open('inputs/day6.txt') as fp:\n",
    "    real_data = []\n",
    "    for line in fp.readlines():\n",
    "        x, _, y = line.partition(',')\n",
    "        real_data.append((int(x), int(y)))\n",
    "real_data = pts_to_matrix(real_data)\n",
    "real_data[0], real_data[-1]"
   ]
  },
  {
   "cell_type": "code",
   "execution_count": 5,
   "metadata": {},
   "outputs": [],
   "source": [
    "def get_range(data):\n",
    "    xmin = min(data[:, 0])\n",
    "    xmax = max(data[:, 0])\n",
    "    ymin = min(data[:, 1])\n",
    "    ymax = max(data[:, 1])\n",
    "    return xmin, xmax, ymin, ymax"
   ]
  },
  {
   "cell_type": "code",
   "execution_count": 6,
   "metadata": {},
   "outputs": [
    {
     "data": {
      "text/plain": [
       "(1, 8, 1, 9)"
      ]
     },
     "execution_count": 6,
     "metadata": {},
     "output_type": "execute_result"
    }
   ],
   "source": [
    "get_range(test_data)"
   ]
  },
  {
   "cell_type": "code",
   "execution_count": 7,
   "metadata": {},
   "outputs": [],
   "source": [
    "from scipy.spatial.distance import cdist"
   ]
  },
  {
   "cell_type": "code",
   "execution_count": 8,
   "metadata": {},
   "outputs": [],
   "source": [
    "def closest(pt, data):\n",
    "    distances = cdist(data, pt, 'cityblock')\n",
    "    mindist = np.min(distances)\n",
    "    if list(distances).count(mindist) != 1:\n",
    "        return None\n",
    "    return np.argmin(distances)    "
   ]
  },
  {
   "cell_type": "code",
   "execution_count": 9,
   "metadata": {},
   "outputs": [],
   "source": [
    "assert None == closest(np.array([[5, 0]], int), test_data)\n",
    "assert 0 == closest(np.array([[0, 0]], int), test_data)"
   ]
  },
  {
   "cell_type": "code",
   "execution_count": 10,
   "metadata": {},
   "outputs": [],
   "source": [
    "import collections"
   ]
  },
  {
   "cell_type": "code",
   "execution_count": 11,
   "metadata": {},
   "outputs": [],
   "source": [
    "def build_closest_grid(data):\n",
    "    xmin, xmax, ymin, ymax = get_range(data)\n",
    "    grid = {(x,y): closest(np.array([[x,y]], int), data) for x in range(xmin, xmax+1) for y in range(ymin, ymax+1)}\n",
    "    return (xmin, xmax, ymin, ymax), grid\n",
    "def find_infinite_indices(ranges, grid):\n",
    "    xmin, xmax, ymin, ymax = ranges\n",
    "    bottom_indices = set(grid[(x, ymin)] for x in range(xmin, xmax+1))\n",
    "    top_indices = set(grid[(x, ymax)] for x in range(xmin, xmax+1))\n",
    "    left_indices = set(grid[(xmin, y)] for y in range(ymin, ymax+1))\n",
    "    right_indices = set(grid[(xmax, y)] for y in range(ymin, ymax+1))\n",
    "    return bottom_indices | top_indices | left_indices | right_indices\n",
    "def finite_areas(grid, infinite_indices):\n",
    "    finite_grid = {k:v for k,v in grid.items() if v not in infinite_indices}\n",
    "    return collections.Counter(finite_grid.values())\n",
    "def find_biggest_area(data):\n",
    "    ranges, grid = build_closest_grid(data)\n",
    "    infinite_indices = find_infinite_indices(ranges, grid)\n",
    "    areas = finite_areas(grid, infinite_indices)\n",
    "    return areas.most_common(1)"
   ]
  },
  {
   "cell_type": "code",
   "execution_count": 12,
   "metadata": {},
   "outputs": [
    {
     "data": {
      "text/plain": [
       "[(4, 17)]"
      ]
     },
     "execution_count": 12,
     "metadata": {},
     "output_type": "execute_result"
    }
   ],
   "source": [
    "find_biggest_area(test_data)"
   ]
  },
  {
   "cell_type": "code",
   "execution_count": 13,
   "metadata": {},
   "outputs": [
    {
     "data": {
      "text/plain": [
       "[(47, 5532)]"
      ]
     },
     "execution_count": 13,
     "metadata": {},
     "output_type": "execute_result"
    }
   ],
   "source": [
    "find_biggest_area(real_data)"
   ]
  },
  {
   "cell_type": "markdown",
   "metadata": {},
   "source": [
    "### Part 2 ###"
   ]
  },
  {
   "cell_type": "code",
   "execution_count": 14,
   "metadata": {},
   "outputs": [],
   "source": [
    "def total_distance(pt, data):\n",
    "    return sum(list(cdist(data, pt, 'cityblock')))\n",
    "def build_total_distance_grid(data):\n",
    "    xmin, xmax, ymin, ymax = get_range(data)\n",
    "    grid = {(x,y): total_distance(np.array([[x,y]], int), data)[0] for x in range(xmin, xmax+1)\n",
    "                                                                for y in range(ymin, ymax+1)}\n",
    "    return (xmin, xmax, ymin, ymax), grid\n",
    "def num_close_points(data, limit):\n",
    "    ranges, grid = build_total_distance_grid(data)\n",
    "    return len([d for d in grid.values() if d < limit])"
   ]
  },
  {
   "cell_type": "code",
   "execution_count": 15,
   "metadata": {},
   "outputs": [],
   "source": [
    "assert 16 == num_close_points(test_data, 32)"
   ]
  },
  {
   "cell_type": "code",
   "execution_count": 16,
   "metadata": {},
   "outputs": [
    {
     "data": {
      "text/plain": [
       "36216"
      ]
     },
     "execution_count": 16,
     "metadata": {},
     "output_type": "execute_result"
    }
   ],
   "source": [
    "num_close_points(real_data, 10000)"
   ]
  },
  {
   "cell_type": "code",
   "execution_count": null,
   "metadata": {},
   "outputs": [],
   "source": []
  }
 ],
 "metadata": {
  "kernelspec": {
   "display_name": "py37",
   "language": "python",
   "name": "py37"
  },
  "language_info": {
   "codemirror_mode": {
    "name": "ipython",
    "version": 3
   },
   "file_extension": ".py",
   "mimetype": "text/x-python",
   "name": "python",
   "nbconvert_exporter": "python",
   "pygments_lexer": "ipython3",
   "version": "3.7.0"
  }
 },
 "nbformat": 4,
 "nbformat_minor": 2
}
