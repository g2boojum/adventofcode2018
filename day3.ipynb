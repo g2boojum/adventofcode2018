{
 "cells": [
  {
   "cell_type": "code",
   "execution_count": 1,
   "metadata": {},
   "outputs": [],
   "source": [
    "%matplotlib inline\n",
    "import pandas as pd\n",
    "import numpy as np\n",
    "import matplotlib.pyplot as plt\n",
    "import scipy as sp\n",
    "import scipy.optimize as spo\n",
    "import statsmodels.api as sm\n",
    "from statsmodels.graphics.dotplots import dot_plot\n",
    "from scipy.interpolate import interp1d\n",
    "import seaborn as sns\n",
    "params = {'figure.figsize': (10,7),\n",
    "          'axes.labelsize': 18,\n",
    "          'font.size': 18,\n",
    "          'xtick.labelsize': 16,\n",
    "          'ytick.labelsize': 16,\n",
    "          'legend.fontsize': 16}\n",
    "sns.set(palette='Set2', style='ticks', rc=params)"
   ]
  },
  {
   "cell_type": "code",
   "execution_count": 2,
   "metadata": {},
   "outputs": [],
   "source": [
    "import itertools\n",
    "import collections\n",
    "import re"
   ]
  },
  {
   "cell_type": "code",
   "execution_count": 3,
   "metadata": {},
   "outputs": [],
   "source": [
    "test_data = ('#1 @ 1,3: 4x4', '#2 @ 3,1: 4x4', '#3 @ 5,5: 2x2')"
   ]
  },
  {
   "cell_type": "code",
   "execution_count": 4,
   "metadata": {},
   "outputs": [
    {
     "data": {
      "text/plain": [
       "('1', '1', '3', '4', '4')"
      ]
     },
     "execution_count": 4,
     "metadata": {},
     "output_type": "execute_result"
    }
   ],
   "source": [
    "p = re.compile(r'#(\\d+) @ (\\d+),(\\d+): (\\d+)x(\\d+)')\n",
    "m = p.match(test_data[0])\n",
    "m.groups()"
   ]
  },
  {
   "cell_type": "code",
   "execution_count": 5,
   "metadata": {},
   "outputs": [],
   "source": [
    "sq_inches = {}\n",
    "def process_claim(claim):\n",
    "    m = p.match(claim)\n",
    "    idx, x0, y0, xnum, ynum = [int(x) for x in m.groups()]\n",
    "    for x in range(x0, x0+xnum):\n",
    "        for y in range(y0, y0+ynum):\n",
    "            if (x, y) not in sq_inches:\n",
    "                sq_inches[(x,y)] = idx\n",
    "            else:\n",
    "                sq_inches[(x,y)] = -1 # overlap              "
   ]
  },
  {
   "cell_type": "code",
   "execution_count": 6,
   "metadata": {},
   "outputs": [
    {
     "data": {
      "text/plain": [
       "{(1, 3): 1,\n",
       " (1, 4): 1,\n",
       " (1, 5): 1,\n",
       " (1, 6): 1,\n",
       " (2, 3): 1,\n",
       " (2, 4): 1,\n",
       " (2, 5): 1,\n",
       " (2, 6): 1,\n",
       " (3, 3): -1,\n",
       " (3, 4): -1,\n",
       " (3, 5): 1,\n",
       " (3, 6): 1,\n",
       " (4, 3): -1,\n",
       " (4, 4): -1,\n",
       " (4, 5): 1,\n",
       " (4, 6): 1,\n",
       " (3, 1): 2,\n",
       " (3, 2): 2,\n",
       " (4, 1): 2,\n",
       " (4, 2): 2,\n",
       " (5, 1): 2,\n",
       " (5, 2): 2,\n",
       " (5, 3): 2,\n",
       " (5, 4): 2,\n",
       " (6, 1): 2,\n",
       " (6, 2): 2,\n",
       " (6, 3): 2,\n",
       " (6, 4): 2,\n",
       " (5, 5): 3,\n",
       " (5, 6): 3,\n",
       " (6, 5): 3,\n",
       " (6, 6): 3}"
      ]
     },
     "execution_count": 6,
     "metadata": {},
     "output_type": "execute_result"
    }
   ],
   "source": [
    "for claim in test_data:\n",
    "    process_claim(claim)\n",
    "sq_inches"
   ]
  },
  {
   "cell_type": "code",
   "execution_count": 7,
   "metadata": {},
   "outputs": [],
   "source": [
    "with open('inputs/day3.txt') as fp:\n",
    "    claims = fp.readlines()"
   ]
  },
  {
   "cell_type": "code",
   "execution_count": 8,
   "metadata": {},
   "outputs": [],
   "source": [
    "sq_inches = {}\n",
    "for claim in claims:\n",
    "    process_claim(claim)"
   ]
  },
  {
   "cell_type": "code",
   "execution_count": 9,
   "metadata": {},
   "outputs": [
    {
     "data": {
      "text/plain": [
       "111935"
      ]
     },
     "execution_count": 9,
     "metadata": {},
     "output_type": "execute_result"
    }
   ],
   "source": [
    "overlaps = 0\n",
    "for sq in sq_inches:\n",
    "    if sq_inches[sq] == -1:\n",
    "        overlaps += 1\n",
    "overlaps"
   ]
  },
  {
   "cell_type": "markdown",
   "metadata": {},
   "source": [
    "### Part 2 ###"
   ]
  },
  {
   "cell_type": "code",
   "execution_count": 10,
   "metadata": {},
   "outputs": [],
   "source": [
    "def is_overlapped(claim):\n",
    "    m = p.match(claim)\n",
    "    idx, x0, y0, xnum, ynum = [int(x) for x in m.groups()]\n",
    "    overlapped = False\n",
    "    for x in range(x0, x0+xnum):\n",
    "        for y in range(y0, y0+ynum):\n",
    "            if sq_inches[(x,y)] != idx:\n",
    "                overlapped = True\n",
    "    return overlapped"
   ]
  },
  {
   "cell_type": "code",
   "execution_count": 11,
   "metadata": {},
   "outputs": [
    {
     "name": "stdout",
     "output_type": "stream",
     "text": [
      "#650 @ 830,151: 25x21\n",
      "\n"
     ]
    }
   ],
   "source": [
    "for claim in claims:\n",
    "    if not is_overlapped(claim):\n",
    "        print(claim)"
   ]
  },
  {
   "cell_type": "code",
   "execution_count": null,
   "metadata": {},
   "outputs": [],
   "source": []
  }
 ],
 "metadata": {
  "kernelspec": {
   "display_name": "py37",
   "language": "python",
   "name": "py37"
  },
  "language_info": {
   "codemirror_mode": {
    "name": "ipython",
    "version": 3
   },
   "file_extension": ".py",
   "mimetype": "text/x-python",
   "name": "python",
   "nbconvert_exporter": "python",
   "pygments_lexer": "ipython3",
   "version": "3.7.0"
  }
 },
 "nbformat": 4,
 "nbformat_minor": 2
}
