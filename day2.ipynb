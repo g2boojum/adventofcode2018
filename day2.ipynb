{
 "cells": [
  {
   "cell_type": "code",
   "execution_count": 1,
   "metadata": {},
   "outputs": [],
   "source": [
    "%matplotlib inline\n",
    "import pandas as pd\n",
    "import numpy as np\n",
    "import matplotlib.pyplot as plt\n",
    "import scipy as sp\n",
    "import scipy.optimize as spo\n",
    "import statsmodels.api as sm\n",
    "from statsmodels.graphics.dotplots import dot_plot\n",
    "from scipy.interpolate import interp1d\n",
    "import seaborn as sns\n",
    "params = {'figure.figsize': (10,7),\n",
    "          'axes.labelsize': 18,\n",
    "          'font.size': 18,\n",
    "          'xtick.labelsize': 16,\n",
    "          'ytick.labelsize': 16,\n",
    "          'legend.fontsize': 16}\n",
    "sns.set(palette='Set2', style='ticks', rc=params)"
   ]
  },
  {
   "cell_type": "markdown",
   "metadata": {},
   "source": [
    "### Part 1 ###"
   ]
  },
  {
   "cell_type": "code",
   "execution_count": 2,
   "metadata": {},
   "outputs": [],
   "source": [
    "import collections"
   ]
  },
  {
   "cell_type": "code",
   "execution_count": 3,
   "metadata": {},
   "outputs": [
    {
     "data": {
      "text/plain": [
       "Counter({'b': 3, 'a': 2, 'c': 1})"
      ]
     },
     "execution_count": 3,
     "metadata": {},
     "output_type": "execute_result"
    }
   ],
   "source": [
    "cnt = collections.Counter('bababc')\n",
    "cnt"
   ]
  },
  {
   "cell_type": "code",
   "execution_count": 4,
   "metadata": {},
   "outputs": [
    {
     "data": {
      "text/plain": [
       "'umdkykbvlapjozfstwcnihjqxg'"
      ]
     },
     "execution_count": 4,
     "metadata": {},
     "output_type": "execute_result"
    }
   ],
   "source": [
    "with open('inputs/day2.txt') as fp:\n",
    "    lines = fp.readlines()\n",
    "ids = [line.strip() for line in lines]\n",
    "ids[-1]"
   ]
  },
  {
   "cell_type": "code",
   "execution_count": 5,
   "metadata": {},
   "outputs": [
    {
     "data": {
      "text/plain": [
       "True"
      ]
     },
     "execution_count": 5,
     "metadata": {},
     "output_type": "execute_result"
    }
   ],
   "source": [
    "cnt = collections.Counter(ids[0])\n",
    "2 in cnt.values()"
   ]
  },
  {
   "cell_type": "code",
   "execution_count": 6,
   "metadata": {},
   "outputs": [
    {
     "data": {
      "text/plain": [
       "[1, 1, 1, 1, 1, 3, 1, 1, 1, 1, 1, 1, 2, 1, 1, 1, 1, 1, 1, 1, 1, 1, 1]"
      ]
     },
     "execution_count": 6,
     "metadata": {},
     "output_type": "execute_result"
    }
   ],
   "source": [
    "list(cnt.values())"
   ]
  },
  {
   "cell_type": "code",
   "execution_count": 7,
   "metadata": {},
   "outputs": [
    {
     "name": "stdout",
     "output_type": "stream",
     "text": [
      "248 23 5704\n"
     ]
    }
   ],
   "source": [
    "id_counts = {id: collections.Counter(id) for id in ids}\n",
    "num_twice = 0\n",
    "num_thrice = 0\n",
    "for id,counts in id_counts.items():\n",
    "    #print(id, counts)\n",
    "    if 2 in counts.values():\n",
    "        num_twice += 1\n",
    "    if 3 in counts.values():\n",
    "        num_thrice += 1\n",
    "print(num_twice, num_thrice, num_twice*num_thrice)"
   ]
  },
  {
   "cell_type": "markdown",
   "metadata": {},
   "source": [
    "### Part 2 ###"
   ]
  },
  {
   "cell_type": "code",
   "execution_count": 8,
   "metadata": {},
   "outputs": [
    {
     "data": {
      "text/plain": [
       "{26}"
      ]
     },
     "execution_count": 8,
     "metadata": {},
     "output_type": "execute_result"
    }
   ],
   "source": [
    "set(len(id) for id in ids)"
   ]
  },
  {
   "cell_type": "code",
   "execution_count": 9,
   "metadata": {},
   "outputs": [],
   "source": [
    "id_size = len(ids[0])\n",
    "def id_diff(id1, id2):\n",
    "    z = zip(id1, id2)\n",
    "    matches = ''.join([i1 for i1,i2 in z if i1 == i2])\n",
    "    return len(matches), matches"
   ]
  },
  {
   "cell_type": "code",
   "execution_count": 10,
   "metadata": {},
   "outputs": [
    {
     "data": {
      "text/plain": [
       "('umdryebvlapkozostecnihjexg', 'amdryebalapkozfstwcnrhjqxg')"
      ]
     },
     "execution_count": 10,
     "metadata": {},
     "output_type": "execute_result"
    }
   ],
   "source": [
    "id1 = ids[0]\n",
    "id2 = ids[1]\n",
    "id1, id2"
   ]
  },
  {
   "cell_type": "code",
   "execution_count": 11,
   "metadata": {},
   "outputs": [
    {
     "data": {
      "text/plain": [
       "'mdryeblapkozstcnhjxg'"
      ]
     },
     "execution_count": 11,
     "metadata": {},
     "output_type": "execute_result"
    }
   ],
   "source": [
    "z = zip(id1, id2)\n",
    "matches = [i1 for i1,i2 in z if i1 == i2]\n",
    "''.join(matches)"
   ]
  },
  {
   "cell_type": "code",
   "execution_count": 12,
   "metadata": {},
   "outputs": [
    {
     "data": {
      "text/plain": [
       "(20, 'mdryeblapkozstcnhjxg')"
      ]
     },
     "execution_count": 12,
     "metadata": {},
     "output_type": "execute_result"
    }
   ],
   "source": [
    "id_diff(ids[0], ids[1])"
   ]
  },
  {
   "cell_type": "code",
   "execution_count": 13,
   "metadata": {},
   "outputs": [],
   "source": [
    "import itertools"
   ]
  },
  {
   "cell_type": "code",
   "execution_count": 14,
   "metadata": {},
   "outputs": [
    {
     "name": "stdout",
     "output_type": "stream",
     "text": [
      "umdryabviapkozistwcnihjqx\n"
     ]
    }
   ],
   "source": [
    "combs = itertools.combinations(ids, 2)\n",
    "for comb in combs:\n",
    "    sz, match = id_diff(*comb)\n",
    "    if sz == (id_size - 1):\n",
    "        print(match)"
   ]
  },
  {
   "cell_type": "code",
   "execution_count": null,
   "metadata": {},
   "outputs": [],
   "source": []
  }
 ],
 "metadata": {
  "kernelspec": {
   "display_name": "py37",
   "language": "python",
   "name": "py37"
  },
  "language_info": {
   "codemirror_mode": {
    "name": "ipython",
    "version": 3
   },
   "file_extension": ".py",
   "mimetype": "text/x-python",
   "name": "python",
   "nbconvert_exporter": "python",
   "pygments_lexer": "ipython3",
   "version": "3.7.0"
  }
 },
 "nbformat": 4,
 "nbformat_minor": 2
}
