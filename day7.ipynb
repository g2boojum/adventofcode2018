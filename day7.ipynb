{
 "cells": [
  {
   "cell_type": "code",
   "execution_count": 1,
   "metadata": {},
   "outputs": [],
   "source": [
    "%matplotlib inline\n",
    "import re\n",
    "import collections\n",
    "import string"
   ]
  },
  {
   "cell_type": "code",
   "execution_count": 2,
   "metadata": {},
   "outputs": [],
   "source": [
    "test_data = \"\"\"Step C must be finished before step A can begin.\n",
    "Step C must be finished before step F can begin.\n",
    "Step A must be finished before step B can begin.\n",
    "Step A must be finished before step D can begin.\n",
    "Step B must be finished before step E can begin.\n",
    "Step D must be finished before step E can begin.\n",
    "Step F must be finished before step E can begin.\"\"\".splitlines()"
   ]
  },
  {
   "cell_type": "code",
   "execution_count": 3,
   "metadata": {},
   "outputs": [],
   "source": [
    "with open('inputs/day7.txt') as fp:\n",
    "    real_data = fp.read().splitlines()"
   ]
  },
  {
   "cell_type": "markdown",
   "metadata": {},
   "source": [
    "### Part 1 ###"
   ]
  },
  {
   "cell_type": "code",
   "execution_count": 4,
   "metadata": {},
   "outputs": [],
   "source": [
    "prereq_re = re.compile(r'Step (\\w) must be finished before step (\\w)')\n",
    "m = prereq_re.match(test_data[0])\n",
    "assert ('C', 'A') == m.groups()"
   ]
  },
  {
   "cell_type": "code",
   "execution_count": 5,
   "metadata": {},
   "outputs": [],
   "source": [
    "def parse_prereq_lines(lines):\n",
    "    nodes = set()\n",
    "    prereqs = collections.defaultdict(list)\n",
    "    for line in lines:\n",
    "        requires, node = prereq_re.match(line).groups()\n",
    "        nodes.add(requires)\n",
    "        nodes.add(node)\n",
    "        prereqs[node].append(requires)\n",
    "    return prereqs, list(nodes)"
   ]
  },
  {
   "cell_type": "code",
   "execution_count": 6,
   "metadata": {},
   "outputs": [
    {
     "data": {
      "text/plain": [
       "['E', 'F', 'D', 'C', 'B', 'A']"
      ]
     },
     "execution_count": 6,
     "metadata": {},
     "output_type": "execute_result"
    }
   ],
   "source": [
    "test_prereqs, test_nodes = parse_prereq_lines(test_data)\n",
    "test_nodes"
   ]
  },
  {
   "cell_type": "code",
   "execution_count": 7,
   "metadata": {},
   "outputs": [],
   "source": [
    "real_prereqs, real_nodes = parse_prereq_lines(real_data)"
   ]
  },
  {
   "cell_type": "code",
   "execution_count": 8,
   "metadata": {},
   "outputs": [],
   "source": [
    "def new_prereqs_without_node(prereqs, node):\n",
    "    new_prereqs = {}\n",
    "    for end_node in prereqs:\n",
    "        lst = [p for p in prereqs[end_node] if p != node]\n",
    "        if lst != []:\n",
    "            new_prereqs[end_node] = lst\n",
    "    return new_prereqs"
   ]
  },
  {
   "cell_type": "code",
   "execution_count": 9,
   "metadata": {},
   "outputs": [
    {
     "data": {
      "text/plain": [
       "{'B': ['A'], 'D': ['A'], 'E': ['B', 'D', 'F']}"
      ]
     },
     "execution_count": 9,
     "metadata": {},
     "output_type": "execute_result"
    }
   ],
   "source": [
    "new_prereqs_without_node(test_prereqs, 'C')"
   ]
  },
  {
   "cell_type": "code",
   "execution_count": 10,
   "metadata": {},
   "outputs": [],
   "source": [
    "def process(nodes, prereqs):\n",
    "    curr_nodes = nodes.copy()\n",
    "    while curr_nodes:\n",
    "        avail = sorted(set(curr_nodes) - set(prereqs.keys()))[0]\n",
    "        yield avail\n",
    "        curr_nodes.remove(avail)\n",
    "        prereqs = new_prereqs_without_node(prereqs, avail)"
   ]
  },
  {
   "cell_type": "code",
   "execution_count": 11,
   "metadata": {},
   "outputs": [],
   "source": [
    "assert 'CABDFE' == ''.join(process(test_nodes, test_prereqs))"
   ]
  },
  {
   "cell_type": "code",
   "execution_count": 12,
   "metadata": {},
   "outputs": [
    {
     "data": {
      "text/plain": [
       "'GRTAHKLQVYWXMUBCZPIJFEDNSO'"
      ]
     },
     "execution_count": 12,
     "metadata": {},
     "output_type": "execute_result"
    }
   ],
   "source": [
    "''.join(process(real_nodes, real_prereqs))"
   ]
  },
  {
   "cell_type": "markdown",
   "metadata": {},
   "source": [
    "### Part 2 ###"
   ]
  },
  {
   "cell_type": "code",
   "execution_count": 13,
   "metadata": {},
   "outputs": [],
   "source": [
    "def next_available_in_pool(pool):\n",
    "    for w in pool:\n",
    "        if w[0] is None:\n",
    "            return w\n",
    "    return None\n",
    "\n",
    "def process_with_workers(nodes, prereqs, num_workers, base_time):\n",
    "    timings = {c:i+base_time+1 for i,c in enumerate(string.ascii_uppercase)}\n",
    "    curr_nodes = nodes.copy()\n",
    "    t = 0\n",
    "    pool = [[None, 0] for _ in range(num_workers)] # Each worker is a [node, finish-time] pair\n",
    "    while curr_nodes:\n",
    "        claimed = [w[0] for w in pool if w[0] is not None]\n",
    "        avail = sorted(set(curr_nodes) - set(prereqs.keys()) - set(claimed))\n",
    "        if avail:\n",
    "            for node in avail:\n",
    "                w = next_available_in_pool(pool)\n",
    "                if w is not None:\n",
    "                    w[0] = node\n",
    "                    w[1] = t+timings[node]\n",
    "        # available nodes assigned, skip to the time that the first finishes\n",
    "        t = min(w[1] for w in pool if w[0] is not None)\n",
    "        for w in pool:\n",
    "            if w[1] == t:\n",
    "                node = w[0]\n",
    "                yield t, node\n",
    "                w[0] = None\n",
    "                curr_nodes.remove(node)\n",
    "                prereqs = new_prereqs_without_node(prereqs, node)"
   ]
  },
  {
   "cell_type": "code",
   "execution_count": 14,
   "metadata": {},
   "outputs": [],
   "source": [
    "test_worker_seq = list(process_with_workers(test_nodes, test_prereqs, 2, 0))\n",
    "assert test_worker_seq[-1] == (15, 'E')"
   ]
  },
  {
   "cell_type": "code",
   "execution_count": 15,
   "metadata": {},
   "outputs": [],
   "source": [
    "puzzle_worker_seq = list(process_with_workers(real_nodes, real_prereqs, 5, 60))"
   ]
  },
  {
   "cell_type": "code",
   "execution_count": 16,
   "metadata": {},
   "outputs": [
    {
     "data": {
      "text/plain": [
       "(1115, 'O')"
      ]
     },
     "execution_count": 16,
     "metadata": {},
     "output_type": "execute_result"
    }
   ],
   "source": [
    "puzzle_worker_seq[-1]"
   ]
  },
  {
   "cell_type": "code",
   "execution_count": null,
   "metadata": {},
   "outputs": [],
   "source": []
  }
 ],
 "metadata": {
  "kernelspec": {
   "display_name": "py37",
   "language": "python",
   "name": "py37"
  },
  "language_info": {
   "codemirror_mode": {
    "name": "ipython",
    "version": 3
   },
   "file_extension": ".py",
   "mimetype": "text/x-python",
   "name": "python",
   "nbconvert_exporter": "python",
   "pygments_lexer": "ipython3",
   "version": "3.7.0"
  }
 },
 "nbformat": 4,
 "nbformat_minor": 2
}
