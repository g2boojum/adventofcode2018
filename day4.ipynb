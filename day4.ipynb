{
 "cells": [
  {
   "cell_type": "code",
   "execution_count": 1,
   "metadata": {},
   "outputs": [],
   "source": [
    "%matplotlib inline\n",
    "import pandas as pd\n",
    "import numpy as np\n",
    "import matplotlib.pyplot as plt\n",
    "import scipy as sp\n",
    "import scipy.optimize as spo\n",
    "import statsmodels.api as sm\n",
    "from statsmodels.graphics.dotplots import dot_plot\n",
    "from scipy.interpolate import interp1d\n",
    "import seaborn as sns\n",
    "params = {'figure.figsize': (10,7),\n",
    "          'axes.labelsize': 18,\n",
    "          'font.size': 18,\n",
    "          'xtick.labelsize': 16,\n",
    "          'ytick.labelsize': 16,\n",
    "          'legend.fontsize': 16}\n",
    "sns.set(palette='Set2', style='ticks', rc=params)"
   ]
  },
  {
   "cell_type": "markdown",
   "metadata": {},
   "source": [
    "### Part 1 ###"
   ]
  },
  {
   "cell_type": "code",
   "execution_count": 2,
   "metadata": {},
   "outputs": [],
   "source": [
    "import datetime\n",
    "datetimeformat = '%Y-%m-%d %H:%M'"
   ]
  },
  {
   "cell_type": "code",
   "execution_count": 3,
   "metadata": {},
   "outputs": [
    {
     "data": {
      "text/plain": [
       "'[1518-06-03 00:32] wakes up\\n'"
      ]
     },
     "execution_count": 3,
     "metadata": {},
     "output_type": "execute_result"
    }
   ],
   "source": [
    "with open('inputs/day4.txt') as fp:\n",
    "    lines = fp.readlines()\n",
    "lines[0]"
   ]
  },
  {
   "cell_type": "code",
   "execution_count": 4,
   "metadata": {},
   "outputs": [
    {
     "data": {
      "text/plain": [
       "(datetime.datetime(1518, 6, 3, 0, 32), 'wakes up')"
      ]
     },
     "execution_count": 4,
     "metadata": {},
     "output_type": "execute_result"
    }
   ],
   "source": [
    "def parse_line(line):\n",
    "    first, middle, last = line.partition(']')\n",
    "    when = datetime.datetime.strptime(first[1:], datetimeformat)\n",
    "    event = last.strip()\n",
    "    return when,event\n",
    "parse_line(lines[0])"
   ]
  },
  {
   "cell_type": "code",
   "execution_count": 5,
   "metadata": {},
   "outputs": [
    {
     "name": "stdout",
     "output_type": "stream",
     "text": [
      "[datetime.datetime(1518, 2, 3, 0, 3), datetime.datetime(1518, 2, 3, 0, 12), datetime.datetime(1518, 2, 3, 0, 28)]\n"
     ]
    }
   ],
   "source": [
    "events = {}\n",
    "for line in lines:\n",
    "    when, event = parse_line(line)\n",
    "    events[when] = event\n",
    "timeline = sorted(events.keys())\n",
    "print(timeline[:3])"
   ]
  },
  {
   "cell_type": "code",
   "execution_count": 6,
   "metadata": {},
   "outputs": [
    {
     "data": {
      "text/plain": [
       "(datetime.datetime(1518, 2, 3, 0, 3), datetime.datetime(1518, 11, 23, 0, 50))"
      ]
     },
     "execution_count": 6,
     "metadata": {},
     "output_type": "execute_result"
    }
   ],
   "source": [
    "timeline[0], timeline[-1]"
   ]
  },
  {
   "cell_type": "code",
   "execution_count": 7,
   "metadata": {},
   "outputs": [
    {
     "data": {
      "text/plain": [
       "{'Guard #1039 begins shift',\n",
       " 'Guard #1097 begins shift',\n",
       " 'Guard #1249 begins shift',\n",
       " 'Guard #1559 begins shift',\n",
       " 'Guard #1601 begins shift',\n",
       " 'Guard #2137 begins shift',\n",
       " 'Guard #2381 begins shift',\n",
       " 'Guard #2579 begins shift',\n",
       " 'Guard #2879 begins shift',\n",
       " 'Guard #2887 begins shift',\n",
       " 'Guard #2969 begins shift',\n",
       " 'Guard #3011 begins shift',\n",
       " 'Guard #3083 begins shift',\n",
       " 'Guard #3089 begins shift',\n",
       " 'Guard #3119 begins shift',\n",
       " 'Guard #3137 begins shift',\n",
       " 'Guard #331 begins shift',\n",
       " 'Guard #373 begins shift',\n",
       " 'Guard #431 begins shift',\n",
       " 'Guard #563 begins shift',\n",
       " 'Guard #691 begins shift',\n",
       " 'Guard #797 begins shift',\n",
       " 'Guard #89 begins shift',\n",
       " 'falls asleep',\n",
       " 'wakes up'}"
      ]
     },
     "execution_count": 7,
     "metadata": {},
     "output_type": "execute_result"
    }
   ],
   "source": [
    "set(events.values())"
   ]
  },
  {
   "cell_type": "code",
   "execution_count": 8,
   "metadata": {},
   "outputs": [
    {
     "data": {
      "text/plain": [
       "('Guard #691 begins shift', 'wakes up')"
      ]
     },
     "execution_count": 8,
     "metadata": {},
     "output_type": "execute_result"
    }
   ],
   "source": [
    "events[timeline[0]], events[timeline[-1]]"
   ]
  },
  {
   "cell_type": "code",
   "execution_count": 9,
   "metadata": {},
   "outputs": [
    {
     "data": {
      "text/plain": [
       "(datetime.datetime(1518, 2, 3, 0, 3), 3)"
      ]
     },
     "execution_count": 9,
     "metadata": {},
     "output_type": "execute_result"
    }
   ],
   "source": [
    "timeline[0], timeline[0].minute"
   ]
  },
  {
   "cell_type": "code",
   "execution_count": 10,
   "metadata": {},
   "outputs": [],
   "source": [
    "import re\n",
    "guard_re = re.compile(r'Guard #(\\d+) begins')\n",
    "import collections"
   ]
  },
  {
   "cell_type": "code",
   "execution_count": 11,
   "metadata": {},
   "outputs": [],
   "source": [
    "sleeping = {}\n",
    "for t in timeline:\n",
    "    e = events[t]\n",
    "    if \"begin\" in e:\n",
    "        m = guard_re.match(e)\n",
    "        guard = int(m.group(1))\n",
    "    elif 'asleep' in e:\n",
    "        asleep_start_min = t.minute\n",
    "    elif 'wakes' in e:\n",
    "        wake_min = t.minute\n",
    "        sleeping_minutes = list(range(asleep_start_min, wake_min))\n",
    "        c = sleeping.get(guard, collections.Counter())\n",
    "        c.update(sleeping_minutes)\n",
    "        sleeping[guard] = c\n",
    "    else:\n",
    "        raise ValueError(f'Mishandled event {e}')"
   ]
  },
  {
   "cell_type": "code",
   "execution_count": 12,
   "metadata": {},
   "outputs": [
    {
     "name": "stdout",
     "output_type": "stream",
     "text": [
      "538 2381\n",
      "2381 44 104764\n"
     ]
    }
   ],
   "source": [
    "total_sleeping = {guard: sum(c.values()) for guard,c in sleeping.items()}\n",
    "max_sleeping = max(total_sleeping.values())\n",
    "sleepiest_guard = [guard for guard in total_sleeping if total_sleeping[guard] == max_sleeping]\n",
    "if len(sleepiest_guard) == 1:\n",
    "    sleepiest_guard = sleepiest_guard[0]\n",
    "else:\n",
    "    raise ValueError(f'Multiple sleepiest guards: {sleepiest_guard}')\n",
    "print(max_sleeping, sleepiest_guard)\n",
    "\n",
    "sleepiest_minute = sleeping[sleepiest_guard].most_common(1)[0][0]\n",
    "print(sleepiest_guard, sleepiest_minute, sleepiest_guard*sleepiest_minute)"
   ]
  },
  {
   "cell_type": "markdown",
   "metadata": {},
   "source": [
    "### Part 2 ###"
   ]
  },
  {
   "cell_type": "code",
   "execution_count": 13,
   "metadata": {},
   "outputs": [],
   "source": [
    "most_asleep_by_min = {guard: sleeping[guard].most_common(1)[0] for guard in sleeping}"
   ]
  },
  {
   "cell_type": "code",
   "execution_count": 14,
   "metadata": {},
   "outputs": [
    {
     "data": {
      "text/plain": [
       "{691: (27, 6),\n",
       " 2579: (37, 12),\n",
       " 331: (25, 7),\n",
       " 1097: (38, 14),\n",
       " 797: (39, 9),\n",
       " 3119: (29, 10),\n",
       " 3083: (28, 12),\n",
       " 3137: (41, 20),\n",
       " 431: (26, 9),\n",
       " 3011: (38, 6),\n",
       " 2381: (44, 18),\n",
       " 1039: (31, 7),\n",
       " 373: (33, 12),\n",
       " 1601: (47, 15),\n",
       " 2969: (54, 8),\n",
       " 2887: (32, 7),\n",
       " 1249: (36, 13),\n",
       " 89: (42, 11),\n",
       " 3089: (41, 9),\n",
       " 1559: (33, 7)}"
      ]
     },
     "execution_count": 14,
     "metadata": {},
     "output_type": "execute_result"
    }
   ],
   "source": [
    "most_asleep_by_min"
   ]
  },
  {
   "cell_type": "code",
   "execution_count": 27,
   "metadata": {},
   "outputs": [
    {
     "name": "stdout",
     "output_type": "stream",
     "text": [
      "3137 41 128617\n"
     ]
    }
   ],
   "source": [
    "def sorting_by_max_freq(guard):\n",
    "    return most_asleep_by_min[guard][1]\n",
    "guard_with_sleepiest_minute = sorted(most_asleep_by_min, key=sorting_by_max_freq, reverse=True)[0]\n",
    "guards_sleepiest_minute = most_asleep_by_min[guard_with_sleepiest_minute][0]\n",
    "print(guard_with_sleepiest_minute, guards_sleepiest_minute, \n",
    "     guard_with_sleepiest_minute*guards_sleepiest_minute)"
   ]
  },
  {
   "cell_type": "code",
   "execution_count": null,
   "metadata": {},
   "outputs": [],
   "source": []
  }
 ],
 "metadata": {
  "kernelspec": {
   "display_name": "py37",
   "language": "python",
   "name": "py37"
  },
  "language_info": {
   "codemirror_mode": {
    "name": "ipython",
    "version": 3
   },
   "file_extension": ".py",
   "mimetype": "text/x-python",
   "name": "python",
   "nbconvert_exporter": "python",
   "pygments_lexer": "ipython3",
   "version": "3.7.0"
  }
 },
 "nbformat": 4,
 "nbformat_minor": 2
}
