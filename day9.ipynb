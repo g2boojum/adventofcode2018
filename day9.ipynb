{
 "cells": [
  {
   "cell_type": "code",
   "execution_count": 1,
   "metadata": {},
   "outputs": [],
   "source": [
    "%matplotlib inline\n",
    "import itertools\n",
    "import collections\n",
    "import numpy as np"
   ]
  },
  {
   "cell_type": "markdown",
   "metadata": {},
   "source": [
    "### Part 1 ###"
   ]
  },
  {
   "cell_type": "code",
   "execution_count": 2,
   "metadata": {},
   "outputs": [],
   "source": [
    "puzzle_data = (462, 71938)\n",
    "test_data = [(9, 25), (10, 1618), (13, 7999), (17, 1104), (21, 6111), (30, 5807)]\n",
    "test_high_scores = (32, 8317, 146373, 2764, 54718, 37305)"
   ]
  },
  {
   "cell_type": "code",
   "execution_count": 3,
   "metadata": {},
   "outputs": [],
   "source": [
    "def turns(maxv):\n",
    "    marbles = []\n",
    "    curr_pos = 0\n",
    "    v = 0\n",
    "    marbles.append(v)\n",
    "    curr_pos = 0\n",
    "    while v < maxv:\n",
    "        v += 1\n",
    "        curr_size = len(marbles)\n",
    "        if v == 1:\n",
    "            marbles.append(v)\n",
    "            curr_pos = 1\n",
    "            score = 0\n",
    "        elif v % 23 != 0:\n",
    "            new_pos = curr_pos + 2\n",
    "            if new_pos == curr_size:\n",
    "                marbles.append(v)\n",
    "                curr_pos = new_pos\n",
    "            else:\n",
    "                insert_pos = new_pos % curr_size\n",
    "                marbles.insert(insert_pos, v)\n",
    "                curr_pos = insert_pos\n",
    "            score = 0\n",
    "        else:\n",
    "            # points!\n",
    "            remove_pos = (curr_pos - 7) % curr_size\n",
    "            score = v + marbles.pop(remove_pos)\n",
    "            curr_pos = remove_pos\n",
    "        yield score, marbles, curr_pos, v"
   ]
  },
  {
   "cell_type": "code",
   "execution_count": 4,
   "metadata": {},
   "outputs": [
    {
     "name": "stdout",
     "output_type": "stream",
     "text": [
      "[0, 1]\n",
      "[0, 2, 1]\n",
      "[0, 2, 1, 3]\n",
      "[0, 4, 2, 1, 3]\n",
      "[0, 4, 2, 5, 1, 3]\n",
      "[0, 4, 2, 5, 1, 6, 3]\n",
      "[0, 4, 2, 5, 1, 6, 3, 7]\n",
      "[0, 8, 4, 2, 5, 1, 6, 3, 7]\n",
      "[0, 8, 4, 9, 2, 5, 1, 6, 3, 7]\n",
      "[0, 8, 4, 9, 2, 10, 5, 1, 6, 3, 7]\n",
      "[0, 8, 4, 9, 2, 10, 5, 11, 1, 6, 3, 7]\n",
      "[0, 8, 4, 9, 2, 10, 5, 11, 1, 12, 6, 3, 7]\n",
      "[0, 8, 4, 9, 2, 10, 5, 11, 1, 12, 6, 13, 3, 7]\n",
      "[0, 8, 4, 9, 2, 10, 5, 11, 1, 12, 6, 13, 3, 14, 7]\n",
      "[0, 8, 4, 9, 2, 10, 5, 11, 1, 12, 6, 13, 3, 14, 7, 15]\n",
      "[0, 16, 8, 4, 9, 2, 10, 5, 11, 1, 12, 6, 13, 3, 14, 7, 15]\n",
      "[0, 16, 8, 17, 4, 9, 2, 10, 5, 11, 1, 12, 6, 13, 3, 14, 7, 15]\n",
      "[0, 16, 8, 17, 4, 18, 9, 2, 10, 5, 11, 1, 12, 6, 13, 3, 14, 7, 15]\n",
      "[0, 16, 8, 17, 4, 18, 9, 19, 2, 10, 5, 11, 1, 12, 6, 13, 3, 14, 7, 15]\n",
      "[0, 16, 8, 17, 4, 18, 9, 19, 2, 20, 10, 5, 11, 1, 12, 6, 13, 3, 14, 7, 15]\n",
      "[0, 16, 8, 17, 4, 18, 9, 19, 2, 20, 10, 21, 5, 11, 1, 12, 6, 13, 3, 14, 7, 15]\n",
      "[0, 16, 8, 17, 4, 18, 9, 19, 2, 20, 10, 21, 5, 22, 11, 1, 12, 6, 13, 3, 14, 7, 15]\n",
      "[0, 16, 8, 17, 4, 18, 19, 2, 20, 10, 21, 5, 22, 11, 1, 12, 6, 13, 3, 14, 7, 15]\n",
      "[0, 16, 8, 17, 4, 18, 19, 2, 24, 20, 10, 21, 5, 22, 11, 1, 12, 6, 13, 3, 14, 7, 15]\n",
      "[0, 16, 8, 17, 4, 18, 19, 2, 24, 20, 25, 10, 21, 5, 22, 11, 1, 12, 6, 13, 3, 14, 7, 15]\n"
     ]
    }
   ],
   "source": [
    "for score, marbles, curr_pos, v in turns(25):\n",
    "    print(marbles)"
   ]
  },
  {
   "cell_type": "code",
   "execution_count": 5,
   "metadata": {},
   "outputs": [],
   "source": [
    "def game(num_players, maxv):\n",
    "    scores = np.zeros(num_players, int)\n",
    "    for score, marbles, curr_pos, v in turns(maxv):\n",
    "        player_idx = v % num_players\n",
    "        scores[player_idx] += score\n",
    "    return scores    "
   ]
  },
  {
   "cell_type": "code",
   "execution_count": 6,
   "metadata": {},
   "outputs": [],
   "source": [
    "for i, (num_players, maxv) in enumerate(test_data):\n",
    "    assert test_high_scores[i] == max(game(num_players, maxv))"
   ]
  },
  {
   "cell_type": "code",
   "execution_count": 7,
   "metadata": {},
   "outputs": [
    {
     "data": {
      "text/plain": [
       "398371"
      ]
     },
     "execution_count": 7,
     "metadata": {},
     "output_type": "execute_result"
    }
   ],
   "source": [
    "max(game(*puzzle_data))"
   ]
  },
  {
   "cell_type": "markdown",
   "metadata": {},
   "source": [
    "### Part 2 ###"
   ]
  },
  {
   "cell_type": "code",
   "execution_count": 8,
   "metadata": {},
   "outputs": [
    {
     "name": "stdout",
     "output_type": "stream",
     "text": [
      "422 ms ± 3.38 ms per loop (mean ± std. dev. of 7 runs, 1 loop each)\n"
     ]
    }
   ],
   "source": [
    "timeit(max(game(*puzzle_data)))"
   ]
  },
  {
   "cell_type": "code",
   "execution_count": 9,
   "metadata": {},
   "outputs": [],
   "source": [
    "def turns_deque(maxv):\n",
    "    marbles = collections.deque(maxlen=maxv)\n",
    "    v = 0\n",
    "    marbles.append(v)\n",
    "    while v < maxv:\n",
    "        v += 1\n",
    "        curr_size = len(marbles)\n",
    "        if v == 1:\n",
    "            marbles.append(v)\n",
    "            score = 0\n",
    "        elif v % 23 != 0:\n",
    "            marbles.rotate(-1)\n",
    "            marbles.append(v)\n",
    "            score = 0\n",
    "        else:\n",
    "            # points!\n",
    "            marbles.rotate(+7)\n",
    "            score = v + marbles.pop()\n",
    "            marbles.rotate(-1)\n",
    "        yield score, marbles, v"
   ]
  },
  {
   "cell_type": "code",
   "execution_count": 10,
   "metadata": {},
   "outputs": [
    {
     "name": "stdout",
     "output_type": "stream",
     "text": [
      "deque([0, 1], maxlen=25)\n",
      "deque([1, 0, 2], maxlen=25)\n",
      "deque([0, 2, 1, 3], maxlen=25)\n",
      "deque([2, 1, 3, 0, 4], maxlen=25)\n",
      "deque([1, 3, 0, 4, 2, 5], maxlen=25)\n",
      "deque([3, 0, 4, 2, 5, 1, 6], maxlen=25)\n",
      "deque([0, 4, 2, 5, 1, 6, 3, 7], maxlen=25)\n",
      "deque([4, 2, 5, 1, 6, 3, 7, 0, 8], maxlen=25)\n",
      "deque([2, 5, 1, 6, 3, 7, 0, 8, 4, 9], maxlen=25)\n",
      "deque([5, 1, 6, 3, 7, 0, 8, 4, 9, 2, 10], maxlen=25)\n",
      "deque([1, 6, 3, 7, 0, 8, 4, 9, 2, 10, 5, 11], maxlen=25)\n",
      "deque([6, 3, 7, 0, 8, 4, 9, 2, 10, 5, 11, 1, 12], maxlen=25)\n",
      "deque([3, 7, 0, 8, 4, 9, 2, 10, 5, 11, 1, 12, 6, 13], maxlen=25)\n",
      "deque([7, 0, 8, 4, 9, 2, 10, 5, 11, 1, 12, 6, 13, 3, 14], maxlen=25)\n",
      "deque([0, 8, 4, 9, 2, 10, 5, 11, 1, 12, 6, 13, 3, 14, 7, 15], maxlen=25)\n",
      "deque([8, 4, 9, 2, 10, 5, 11, 1, 12, 6, 13, 3, 14, 7, 15, 0, 16], maxlen=25)\n",
      "deque([4, 9, 2, 10, 5, 11, 1, 12, 6, 13, 3, 14, 7, 15, 0, 16, 8, 17], maxlen=25)\n",
      "deque([9, 2, 10, 5, 11, 1, 12, 6, 13, 3, 14, 7, 15, 0, 16, 8, 17, 4, 18], maxlen=25)\n",
      "deque([2, 10, 5, 11, 1, 12, 6, 13, 3, 14, 7, 15, 0, 16, 8, 17, 4, 18, 9, 19], maxlen=25)\n",
      "deque([10, 5, 11, 1, 12, 6, 13, 3, 14, 7, 15, 0, 16, 8, 17, 4, 18, 9, 19, 2, 20], maxlen=25)\n",
      "deque([5, 11, 1, 12, 6, 13, 3, 14, 7, 15, 0, 16, 8, 17, 4, 18, 9, 19, 2, 20, 10, 21], maxlen=25)\n",
      "deque([11, 1, 12, 6, 13, 3, 14, 7, 15, 0, 16, 8, 17, 4, 18, 9, 19, 2, 20, 10, 21, 5, 22], maxlen=25)\n",
      "deque([2, 20, 10, 21, 5, 22, 11, 1, 12, 6, 13, 3, 14, 7, 15, 0, 16, 8, 17, 4, 18, 19], maxlen=25)\n",
      "deque([20, 10, 21, 5, 22, 11, 1, 12, 6, 13, 3, 14, 7, 15, 0, 16, 8, 17, 4, 18, 19, 2, 24], maxlen=25)\n",
      "deque([10, 21, 5, 22, 11, 1, 12, 6, 13, 3, 14, 7, 15, 0, 16, 8, 17, 4, 18, 19, 2, 24, 20, 25], maxlen=25)\n"
     ]
    }
   ],
   "source": [
    "for score, marbles, v in turns_deque(25):\n",
    "    print(marbles)"
   ]
  },
  {
   "cell_type": "code",
   "execution_count": 11,
   "metadata": {},
   "outputs": [],
   "source": [
    "def game_deque(num_players, maxv):\n",
    "    scores = np.zeros(num_players, int)\n",
    "    for score, marbles, v in turns_deque(maxv):\n",
    "        player_idx = v % num_players\n",
    "        scores[player_idx] += score\n",
    "    return scores    "
   ]
  },
  {
   "cell_type": "code",
   "execution_count": 12,
   "metadata": {},
   "outputs": [
    {
     "name": "stdout",
     "output_type": "stream",
     "text": [
      "94.4 ms ± 1.13 ms per loop (mean ± std. dev. of 7 runs, 10 loops each)\n"
     ]
    }
   ],
   "source": [
    "timeit(max(game_deque(*puzzle_data)))"
   ]
  },
  {
   "cell_type": "code",
   "execution_count": 13,
   "metadata": {},
   "outputs": [],
   "source": [
    "puzzle_data_long = (puzzle_data[0], puzzle_data[1]*100)"
   ]
  },
  {
   "cell_type": "code",
   "execution_count": 14,
   "metadata": {},
   "outputs": [
    {
     "data": {
      "text/plain": [
       "3212830280"
      ]
     },
     "execution_count": 14,
     "metadata": {},
     "output_type": "execute_result"
    }
   ],
   "source": [
    "max(game_deque(*puzzle_data_long))"
   ]
  },
  {
   "cell_type": "code",
   "execution_count": null,
   "metadata": {},
   "outputs": [],
   "source": []
  }
 ],
 "metadata": {
  "kernelspec": {
   "display_name": "py37",
   "language": "python",
   "name": "py37"
  },
  "language_info": {
   "codemirror_mode": {
    "name": "ipython",
    "version": 3
   },
   "file_extension": ".py",
   "mimetype": "text/x-python",
   "name": "python",
   "nbconvert_exporter": "python",
   "pygments_lexer": "ipython3",
   "version": "3.7.0"
  }
 },
 "nbformat": 4,
 "nbformat_minor": 2
}
