{
 "cells": [
  {
   "cell_type": "code",
   "execution_count": 1,
   "metadata": {},
   "outputs": [],
   "source": [
    "%matplotlib inline"
   ]
  },
  {
   "cell_type": "markdown",
   "metadata": {},
   "source": [
    "### Part 1 ###"
   ]
  },
  {
   "cell_type": "code",
   "execution_count": 2,
   "metadata": {},
   "outputs": [],
   "source": [
    "test_input = '2 3 0 3 10 11 12 1 1 0 1 99 2 1 1 2'\n",
    "test_data = [int(i) for i in test_input.split()]\n",
    "with open('inputs/day8.txt') as fp:\n",
    "    puzzle_input = fp.read()\n",
    "puzzle_data = [int(i) for i in puzzle_input.split()]"
   ]
  },
  {
   "cell_type": "code",
   "execution_count": 3,
   "metadata": {},
   "outputs": [],
   "source": [
    "def build_node(data):\n",
    "    num_children, num_metadata = data[:2]\n",
    "    node = {}\n",
    "    node['children'] = []\n",
    "    remaining_data = data[2:]\n",
    "    for i in range(num_children):\n",
    "        child_node, remaining_data = build_node(remaining_data)\n",
    "        node['children'].append(child_node)\n",
    "    node['metadata'] = remaining_data[:num_metadata]\n",
    "    remaining_data = remaining_data[num_metadata:]\n",
    "    return node, remaining_data "
   ]
  },
  {
   "cell_type": "code",
   "execution_count": 4,
   "metadata": {},
   "outputs": [
    {
     "data": {
      "text/plain": [
       "{'children': [{'children': [], 'metadata': [10, 11, 12]},\n",
       "  {'children': [{'children': [], 'metadata': [99]}], 'metadata': [2]}],\n",
       " 'metadata': [1, 1, 2]}"
      ]
     },
     "execution_count": 4,
     "metadata": {},
     "output_type": "execute_result"
    }
   ],
   "source": [
    "test_data_tree, remaining = build_node(test_data)\n",
    "test_data_tree"
   ]
  },
  {
   "cell_type": "code",
   "execution_count": 5,
   "metadata": {},
   "outputs": [],
   "source": [
    "def sum_metadata(tree):\n",
    "    s = sum(tree['metadata'])\n",
    "    for c in tree['children']:\n",
    "        s += sum_metadata(c)\n",
    "    return s"
   ]
  },
  {
   "cell_type": "code",
   "execution_count": 6,
   "metadata": {},
   "outputs": [],
   "source": [
    "assert 138 == sum_metadata(test_data_tree)"
   ]
  },
  {
   "cell_type": "code",
   "execution_count": 7,
   "metadata": {},
   "outputs": [],
   "source": [
    "puzzle_tree, remaining = build_node(puzzle_data)"
   ]
  },
  {
   "cell_type": "code",
   "execution_count": 8,
   "metadata": {},
   "outputs": [
    {
     "data": {
      "text/plain": [
       "43825"
      ]
     },
     "execution_count": 8,
     "metadata": {},
     "output_type": "execute_result"
    }
   ],
   "source": [
    "sum_metadata(puzzle_tree)"
   ]
  },
  {
   "cell_type": "markdown",
   "metadata": {},
   "source": [
    "### Part 2 ###"
   ]
  },
  {
   "cell_type": "code",
   "execution_count": 9,
   "metadata": {},
   "outputs": [],
   "source": [
    "def indexed_sum(node):\n",
    "    if node['children'] == []:\n",
    "        return sum(node['metadata'])\n",
    "    # children exist, so metadata correspond to children\n",
    "    num_children = len(node['children'])\n",
    "    s = 0\n",
    "    for m in node['metadata']:\n",
    "        idx = m - 1\n",
    "        if (idx < num_children) and (idx >= 0):\n",
    "            s += indexed_sum(node['children'][idx])\n",
    "    return s        "
   ]
  },
  {
   "cell_type": "code",
   "execution_count": 10,
   "metadata": {},
   "outputs": [],
   "source": [
    "assert 66 == indexed_sum(test_data_tree)"
   ]
  },
  {
   "cell_type": "code",
   "execution_count": 11,
   "metadata": {},
   "outputs": [
    {
     "data": {
      "text/plain": [
       "19276"
      ]
     },
     "execution_count": 11,
     "metadata": {},
     "output_type": "execute_result"
    }
   ],
   "source": [
    "indexed_sum(puzzle_tree)"
   ]
  },
  {
   "cell_type": "code",
   "execution_count": null,
   "metadata": {},
   "outputs": [],
   "source": []
  }
 ],
 "metadata": {
  "kernelspec": {
   "display_name": "py37",
   "language": "python",
   "name": "py37"
  },
  "language_info": {
   "codemirror_mode": {
    "name": "ipython",
    "version": 3
   },
   "file_extension": ".py",
   "mimetype": "text/x-python",
   "name": "python",
   "nbconvert_exporter": "python",
   "pygments_lexer": "ipython3",
   "version": "3.7.0"
  }
 },
 "nbformat": 4,
 "nbformat_minor": 2
}
