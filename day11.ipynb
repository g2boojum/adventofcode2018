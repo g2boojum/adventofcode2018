{
 "cells": [
  {
   "cell_type": "code",
   "execution_count": 1,
   "metadata": {},
   "outputs": [],
   "source": [
    "import itertools"
   ]
  },
  {
   "cell_type": "code",
   "execution_count": 2,
   "metadata": {},
   "outputs": [],
   "source": [
    "test_sn = 8\n",
    "puzzle_sn = 1955\n",
    "x_size = 300\n",
    "y_size = 300"
   ]
  },
  {
   "cell_type": "markdown",
   "metadata": {},
   "source": [
    "### Part 1 ###"
   ]
  },
  {
   "cell_type": "code",
   "execution_count": 3,
   "metadata": {},
   "outputs": [],
   "source": [
    "def power_level(x, y, sn):\n",
    "    rack_id = x + 10\n",
    "    power = (((rack_id*y + sn)*rack_id // 100) % 10) - 5\n",
    "    return power"
   ]
  },
  {
   "cell_type": "code",
   "execution_count": 4,
   "metadata": {},
   "outputs": [],
   "source": [
    "assert 4 == power_level(3, 5, 8)\n",
    "assert -5 == power_level(122, 79, 57)\n",
    "assert 0 == power_level(217, 196, 39)\n",
    "assert 4 == power_level(101, 153, 71)"
   ]
  },
  {
   "cell_type": "code",
   "execution_count": 5,
   "metadata": {},
   "outputs": [],
   "source": [
    "def compute_subgrids(grid):\n",
    "    subgrids = {}\n",
    "    max_pt = (1,1)\n",
    "    max_sg = grid[max_pt]\n",
    "    # index each subgrid by the top left of the grid\n",
    "    for tlx in range(1, x_size-1):\n",
    "        for tly in range(1, y_size-1):\n",
    "            sg = 0\n",
    "            for delx in (0, 1, 2):\n",
    "                for dely in (0, 1, 2):\n",
    "                    sg += grid[(tlx+delx, tly+dely)]\n",
    "            subgrids[(tlx, tly)] = sg\n",
    "            if sg > max_sg:\n",
    "                max_sg = sg\n",
    "                max_pt = (tlx, tly)\n",
    "    return subgrids, max_sg, max_pt"
   ]
  },
  {
   "cell_type": "code",
   "execution_count": 6,
   "metadata": {},
   "outputs": [],
   "source": [
    "test_sn = 18\n",
    "test_grid = {(x,y): power_level(x,y,test_sn) for x in range(1,x_size+1) for y in range(1,y_size+1)}\n",
    "test_subgrids, test_max_power, test_max_idx = compute_subgrids(test_grid)\n",
    "assert 29 == test_max_power\n",
    "assert (33,45) == test_max_idx"
   ]
  },
  {
   "cell_type": "code",
   "execution_count": 7,
   "metadata": {},
   "outputs": [],
   "source": [
    "puzzle_grid = {(x,y): power_level(x,y,puzzle_sn) for x in range(1, x_size+1) for y in range(1,y_size+1)}\n",
    "puzzle_subgrids, puzzle_max_power, puzzle_max_idx = compute_subgrids(puzzle_grid)"
   ]
  },
  {
   "cell_type": "code",
   "execution_count": 8,
   "metadata": {},
   "outputs": [
    {
     "data": {
      "text/plain": [
       "(21, 93)"
      ]
     },
     "execution_count": 8,
     "metadata": {},
     "output_type": "execute_result"
    }
   ],
   "source": [
    "puzzle_max_idx"
   ]
  },
  {
   "cell_type": "markdown",
   "metadata": {},
   "source": [
    "### Part 2 ###"
   ]
  },
  {
   "cell_type": "markdown",
   "metadata": {},
   "source": [
    "I don't have time to finish this, but https://www.michaelfogleman.com/aoc18/#11 notes that rectangular sub-regions can be summed very quickly using a \"summed-area table\" (https://en.wikipedia.org/wiki/Summed-area_table).  A little bit of thought, and this is obvious: it's just a set of integrals. So, the \"area\" of a rectangular sub-region can be computed as the difference in areas computed by previous integrals."
   ]
  },
  {
   "cell_type": "markdown",
   "metadata": {},
   "source": [
    "I need to get back to doing real work, so my 2018 AOC ends here, at least for now."
   ]
  },
  {
   "cell_type": "code",
   "execution_count": null,
   "metadata": {},
   "outputs": [],
   "source": []
  }
 ],
 "metadata": {
  "kernelspec": {
   "display_name": "py37",
   "language": "python",
   "name": "py37"
  },
  "language_info": {
   "codemirror_mode": {
    "name": "ipython",
    "version": 3
   },
   "file_extension": ".py",
   "mimetype": "text/x-python",
   "name": "python",
   "nbconvert_exporter": "python",
   "pygments_lexer": "ipython3",
   "version": "3.7.0"
  }
 },
 "nbformat": 4,
 "nbformat_minor": 2
}
